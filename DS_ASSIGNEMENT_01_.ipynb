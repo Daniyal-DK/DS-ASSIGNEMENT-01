{
  "nbformat": 4,
  "nbformat_minor": 0,
  "metadata": {
    "colab": {
      "name": "DS ASSIGNEMENT#01 .ipynb",
      "provenance": []
    },
    "kernelspec": {
      "name": "python3",
      "display_name": "Python 3"
    },
    "language_info": {
      "name": "python"
    }
  },
  "cells": [
    {
      "cell_type": "code",
      "execution_count": null,
      "metadata": {
        "colab": {
          "base_uri": "https://localhost:8080/"
        },
        "id": "7zrVGfwWjE2c",
        "outputId": "cbb2d9e6-6716-45ef-aa07-bc816b577fe6"
      },
      "outputs": [
        {
          "output_type": "stream",
          "name": "stdout",
          "text": [
            "Twinkle, twinkle, little star, \n",
            "\tHow I wonder what you are! \n",
            "\t\tUp above the world so high, \n",
            "\t\tLike a diamond in the sky. \n",
            "Twinkle, twinkle, little star, \n",
            "\tHow I wonder what you are!\n"
          ]
        }
      ],
      "source": [
        "print(\"Twinkle, twinkle, little star, \\n\\tHow I wonder what you are! \\n\\t\\tUp above the world so high, \\n\\t\\tLike a diamond in the sky. \\nTwinkle, twinkle, little star, \\n\\tHow I wonder what you are!\")\n"
      ]
    },
    {
      "cell_type": "code",
      "source": [
        "import sys\n",
        "print(\"Python version\")\n",
        "print (sys.version)\n"
      ],
      "metadata": {
        "colab": {
          "base_uri": "https://localhost:8080/"
        },
        "id": "1Ft6rNEnk5Aq",
        "outputId": "40e81f3c-80ab-4d0f-d3d1-e63c0b557dea"
      },
      "execution_count": null,
      "outputs": [
        {
          "output_type": "stream",
          "name": "stdout",
          "text": [
            "Python version\n",
            "3.7.12 (default, Sep 10 2021, 00:21:48) \n",
            "[GCC 7.5.0]\n"
          ]
        }
      ]
    },
    {
      "cell_type": "code",
      "source": [
        "import datetime\n",
        "now = datetime.datetime.now()\n",
        "print (\"Current date and time : \")\n",
        "print (now.strftime(\"%Y-%m-%d %H:%M:%S\"))"
      ],
      "metadata": {
        "colab": {
          "base_uri": "https://localhost:8080/"
        },
        "id": "i5VjNm61k85c",
        "outputId": "090524bd-b9cd-4c33-8be1-226c84572547"
      },
      "execution_count": null,
      "outputs": [
        {
          "output_type": "stream",
          "name": "stdout",
          "text": [
            "Current date and time : \n",
            "2022-01-01 17:42:04\n"
          ]
        }
      ]
    },
    {
      "cell_type": "code",
      "source": [
        "from math import pi\n",
        "\n",
        "r = float(input (\"Enter radius of circle : \"))\n",
        "\n",
        "print (\"Area of the circle is: \" + str(pi * r**2))"
      ],
      "metadata": {
        "colab": {
          "base_uri": "https://localhost:8080/"
        },
        "id": "8kMVZf2lmkw3",
        "outputId": "647d2767-bc80-423e-f5fb-48baff456bd1"
      },
      "execution_count": null,
      "outputs": [
        {
          "output_type": "stream",
          "name": "stdout",
          "text": [
            "Enter radius of circle : 5\n",
            "Area of the circle is: 78.53981633974483\n"
          ]
        }
      ]
    },
    {
      "cell_type": "code",
      "source": [
        "fname = input(\"type your First Name : \")\n",
        "lname = input(\"type your Last Name : \")\n",
        "print (\"SALAM!  \" + lname + \" \" + fname)"
      ],
      "metadata": {
        "colab": {
          "base_uri": "https://localhost:8080/"
        },
        "id": "IMFysY48m1eT",
        "outputId": "599ad837-7b8c-4414-c837-d8c8becd5f12"
      },
      "execution_count": null,
      "outputs": [
        {
          "output_type": "stream",
          "name": "stdout",
          "text": [
            "type your First Name : danial\n",
            "type your Last Name : khan\n",
            "SALAM!  khan danial\n"
          ]
        }
      ]
    },
    {
      "cell_type": "code",
      "source": [
        "y = input(\"Enter First number: \")\n",
        "z = input(\"Enter Second number: \")\n",
        "\n",
        "ADD = int(y) + int(z)\n",
        "\n",
        "print(\"The sum is: \", ADD)"
      ],
      "metadata": {
        "colab": {
          "base_uri": "https://localhost:8080/"
        },
        "id": "NFf1IbIXnwC3",
        "outputId": "46ed20c8-2dd0-4777-daff-356112ed9859"
      },
      "execution_count": null,
      "outputs": [
        {
          "output_type": "stream",
          "name": "stdout",
          "text": [
            "Enter First number: 7\n",
            "Enter Second number: 6\n",
            "The sum is:  13\n"
          ]
        }
      ]
    }
  ]
}